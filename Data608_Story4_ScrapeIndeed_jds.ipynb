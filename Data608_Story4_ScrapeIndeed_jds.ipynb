{
 "cells": [
  {
   "cell_type": "code",
   "execution_count": 1,
   "id": "246b6e33-9bdd-44dd-9e71-8ba486a74bff",
   "metadata": {},
   "outputs": [],
   "source": [
    "from selenium import webdriver \n",
    "from selenium.webdriver import Chrome\n",
    "from selenium.webdriver.chrome.options import Options\n",
    "from selenium.webdriver.support.ui import Select\n",
    "from selenium.webdriver.common.by import By\n",
    "import json\n",
    "import re, time\n",
    "import pandas as pd\n",
    "from collections import defaultdict"
   ]
  },
  {
   "cell_type": "code",
   "execution_count": null,
   "id": "669e52c1-a13e-420d-8f13-53f3af195870",
   "metadata": {},
   "outputs": [],
   "source": [
    "def pull_indeed_job_links(driver, jobs,search):\n",
    "    '''\n",
    "    Inputs: Google Chrome browser instance and list for tracking the postings\n",
    "    Outputs: List of defaultdict dictionaries that are tracking Indeed job postings\n",
    "    Purpose: Pull in indeed job data scientist links as well as basic information on posting\n",
    "    '''\n",
    "    \n",
    "    job_pane = driver.find_element(By.ID,'jobsearch-Main')#//div[@id=\n",
    "    job_listings = job_pane.find_elements(By.XPATH,'.//div[@class=\"job_seen_beacon\"]')\n",
    "    for job_listing in job_listings:\n",
    "        \n",
    "        job_link = job_listing.find_element(By.XPATH,'.//a')\n",
    "        #if re.search('.*Data Scientist.*',job_link.find_element(By.XPATH,'.//span').text):\n",
    "        job_details = defaultdict()\n",
    "        job_details['job_description'] = job_link.find_element(By.XPATH,'.//span').text\n",
    "        job_details['link'] = job_link.get_attribute('href')\n",
    "        try:\n",
    "            job_details['company'] = job_listing.find_element(By.XPATH,'.//span[@class=\"companyName\"]').text\n",
    "        except:\n",
    "            job_details['company'] = 'Not listed'\n",
    "        #job_details['company'] = job_listing.find_element(By.XPATH,'.//span[@class=\"companyName\"]').text\n",
    "        try:\n",
    "            salary_detail = job_listing.find_element(By.XPATH,'.//div[@class=\"heading6 tapItem-gutter metadataContainer noJEMChips salaryOnly\"]')\n",
    "            job_details['salary'] = job_listing.find_element(By.XPATH,'.//div[@class=\"metadata salary-snippet-container\"]').text\n",
    "            job_details['Employment type'] = job_listing.find_element(By.XPATH,'.//div[@class=\"metadata\"]').text\n",
    "\n",
    "        except:\n",
    "            job_details['salary'] = None\n",
    "        job_details['search_term'] = search\n",
    "        job_details['location'] = job_listing.find_element(By.XPATH,'.//div[@class=\"companyLocation\"]').text.splitlines()[0]\n",
    "        jobs.append(j"
   ]
  },
  {
   "cell_type": "code",
   "execution_count": null,
   "id": "ce27d47a-eb21-4237-ad45-81117794c823",
   "metadata": {},
   "outputs": [],
   "source": [
    "def open_indeed_link(search_term):\n",
    "    #print(search_term)\n",
    "    new_link = f'https://www.indeed.com/q-{search_term}-jobs.html'\n",
    "    #print(new_link)\n",
    "    opts = Options()\n",
    "\n",
    "    driver = webdriver.Chrome(options=opts)#executable_path ='/Users/JoshForster/anaconda3/chromedriver'\n",
    "    driver.get(new_link)\n",
    "    jobs=[]\n",
    "    jobs=pull_indeed_job_links(driver=driver,jobs=jobs,search=search_term)\n",
    "    return (driver,jobs)"
   ]
  },
  {
   "cell_type": "code",
   "execution_count": null,
   "id": "59e7f4b2-bce5-40df-8234-b35530236b14",
   "metadata": {},
   "outputs": [],
   "source": [
    "def paginate(driver,page_num):\n",
    "    pagination = driver.find_element(By.XPATH,f'//a[@data-testid=\"pagination-page-{page_num}\"]')\n",
    "    pagination.click()"
   ]
  },
  {
   "cell_type": "code",
   "execution_count": null,
   "id": "591f8fd9-97a6-4c4f-acda-ea5e7fb3b46a",
   "metadata": {},
   "outputs": [],
   "source": [
    "search_terms = ['Data-Scientist', 'Data-Engineer', 'Data-Analyst', 'Business-Analyst', 'Data-Architect']\n",
    "jobs_full = []"
   ]
  },
  {
   "cell_type": "code",
   "execution_count": null,
   "id": "9db24e54-963a-4e46-b4eb-edaea204ae18",
   "metadata": {},
   "outputs": [],
   "source": [
    "for idx,job_search in enumerate(search_terms):\n",
    "    print(job_search)\n",
    "    driver,jobs = open_indeed_link(search_term=job_search)\n",
    "    jobs_full.extend(jobs)\n",
    "    for x in range(2,9):\n",
    "        paginate(driver,x)\n",
    "        jobs_temp = pull_indeed_job_links(driver=driver,jobs=jobs,search=job_search)\n",
    "        jobs_full.extend(jobs_temp)\n",
    "    driver.close()"
   ]
  },
  {
   "cell_type": "code",
   "execution_count": null,
   "id": "0c099d18-28f2-45d9-abe3-44b66b0bd603",
   "metadata": {},
   "outputs": [],
   "source": [
    "df_new = pd.DataFrame(jobs_full)\n",
    "df_new.head(100)"
   ]
  },
  {
   "cell_type": "code",
   "execution_count": null,
   "id": "00cd97e9-b545-402f-a6c9-1705037f2ba6",
   "metadata": {},
   "outputs": [],
   "source": [
    "df_uniq = df_new.drop_duplicates('link')[~pd.isna(df_new['salary'])]"
   ]
  },
  {
   "cell_type": "code",
   "execution_count": null,
   "id": "81a79472-8156-4475-a5f2-b09aa4ff7cfd",
   "metadata": {},
   "outputs": [],
   "source": [
    "df_uniq.to_csv('indeed_scraped_data_2023-10-19.csv')"
   ]
  }
 ],
 "metadata": {
  "kernelspec": {
   "display_name": "Python 3 (ipykernel)",
   "language": "python",
   "name": "python3"
  },
  "language_info": {
   "codemirror_mode": {
    "name": "ipython",
    "version": 3
   },
   "file_extension": ".py",
   "mimetype": "text/x-python",
   "name": "python",
   "nbconvert_exporter": "python",
   "pygments_lexer": "ipython3",
   "version": "3.10.12"
  }
 },
 "nbformat": 4,
 "nbformat_minor": 5
}
