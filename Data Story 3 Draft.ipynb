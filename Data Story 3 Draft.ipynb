{
 "cells": [
  {
   "cell_type": "markdown",
   "id": "799885cc",
   "metadata": {},
   "source": [
    "## Story 3: Do stricter gun laws reduce gun deaths?"
   ]
  },
  {
   "cell_type": "markdown",
   "id": "483ba85e",
   "metadata": {},
   "source": [
    "### Import Libraries"
   ]
  },
  {
   "cell_type": "code",
   "execution_count": 30,
   "id": "f6fd7783",
   "metadata": {},
   "outputs": [],
   "source": [
    "import requests\n",
    "import pandas as pd\n",
    "import re\n",
    "import plotly.express as px\n",
    "import statsmodels.api as sm\n",
    "from plotly.offline import iplot\n",
    "import plotly.io as pio\n",
    "pio.renderers.default='notebook'\n",
    "from IPython.display import Image"
   ]
  },
  {
   "cell_type": "markdown",
   "id": "db965711",
   "metadata": {},
   "source": [
    "Utilizing the [Soctrata API](https://dev.socrata.com/foundry/data.cdc.gov/489q-934x) to pull in the relevant statistics from the CDC as well as the [Gifford Organization gun law scorecard](https://giffords.org/lawcenter/resources/scorecard/) which provided relevant gun law evaluations for each state and was supplemented by their [evaluation](https://giffords.org/lawcenter/gun-laws/washington-dc/) of DC gun laws."
   ]
  },
  {
   "cell_type": "markdown",
   "id": "b7d53209",
   "metadata": {},
   "source": [
    "### Call CDC API for relevant data on firearm deaths"
   ]
  },
  {
   "cell_type": "code",
   "execution_count": 31,
   "id": "d8ff6135",
   "metadata": {},
   "outputs": [
    {
     "data": {
      "text/plain": [
       "Index(['year_and_quarter', 'time_period', 'cause_of_death', 'rate_type',\n",
       "       'unit', 'rate_overall', 'rate_sex_female', 'rate_sex_male',\n",
       "       'rate_alaska', 'rate_alabama', 'rate_arkansas', 'rate_arizona',\n",
       "       'rate_california', 'rate_colorado', 'rate_connecticut',\n",
       "       'rate_district_of_columbia', 'rate_delaware', 'rate_florida',\n",
       "       'rate_georgia', 'rate_hawaii', 'rate_iowa', 'rate_idaho',\n",
       "       'rate_illinois', 'rate_indiana', 'rate_kansas', 'rate_kentucky',\n",
       "       'rate_louisiana', 'rate_massachusetts', 'rate_maryland', 'rate_maine',\n",
       "       'rate_michigan', 'rate_minnesota', 'rate_missouri', 'rate_mississippi',\n",
       "       'rate_montana', 'rate_north_carolina', 'rate_north_dakota',\n",
       "       'rate_nebraska', 'rate_new_hampshire', 'rate_new_jersey',\n",
       "       'rate_new_mexico', 'rate_nevada', 'rate_new_york', 'rate_ohio',\n",
       "       'rate_oklahoma', 'rate_oregon', 'rate_pennsylvania',\n",
       "       'rate_rhode_island', 'rate_south_carolina', 'rate_south_dakota',\n",
       "       'rate_tennessee', 'rate_texas', 'rate_utah', 'rate_virginia',\n",
       "       'rate_vermont', 'rate_washington', 'rate_wisconsin',\n",
       "       'rate_west_virginia', 'rate_wyoming', 'rate_age_1_4', 'rate_age_5_14',\n",
       "       'rate_age_15_24', 'rate_age_25_34', 'rate_age_35_44', 'rate_age_45_54',\n",
       "       'rate_age_55_64', 'rate_65_74', 'rate_age_75_84', 'rate_age_85_plus'],\n",
       "      dtype='object')"
      ]
     },
     "execution_count": 31,
     "metadata": {},
     "output_type": "execute_result"
    }
   ],
   "source": [
    "firearm_deaths = requests.get('https://data.cdc.gov/resource/489q-934x.json?cause_of_death=Firearm-related injury')\n",
    "df = pd.DataFrame.from_records(firearm_deaths.json())\n",
    "df.columns"
   ]
  },
  {
   "cell_type": "code",
   "execution_count": 32,
   "id": "098dbf73",
   "metadata": {},
   "outputs": [
    {
     "data": {
      "text/plain": [
       "time_period\n",
       "12 months ending with quarter    24\n",
       "3-month period                   24\n",
       "Name: rate_type, dtype: int64"
      ]
     },
     "execution_count": 32,
     "metadata": {},
     "output_type": "execute_result"
    }
   ],
   "source": [
    "df.groupby(['time_period'])['rate_type'].count()"
   ]
  },
  {
   "cell_type": "markdown",
   "id": "14d1de00",
   "metadata": {},
   "source": [
    "### Load in Supplemental Files"
   ]
  },
  {
   "cell_type": "code",
   "execution_count": 33,
   "id": "5f230725",
   "metadata": {},
   "outputs": [],
   "source": [
    "fips_df = pd.read_csv('https://raw.githubusercontent.com/jforster19/Data608/main/state_fip.csv',dtype={'fips':str})\n",
    "likert_df = pd.read_csv('https://raw.githubusercontent.com/jforster19/Data608/main/state_law_likert.csv')"
   ]
  },
  {
   "cell_type": "code",
   "execution_count": 34,
   "id": "8575a560",
   "metadata": {},
   "outputs": [
    {
     "data": {
      "text/html": [
       "<div>\n",
       "<style scoped>\n",
       "    .dataframe tbody tr th:only-of-type {\n",
       "        vertical-align: middle;\n",
       "    }\n",
       "\n",
       "    .dataframe tbody tr th {\n",
       "        vertical-align: top;\n",
       "    }\n",
       "\n",
       "    .dataframe thead th {\n",
       "        text-align: right;\n",
       "    }\n",
       "</style>\n",
       "<table border=\"1\" class=\"dataframe\">\n",
       "  <thead>\n",
       "    <tr style=\"text-align: right;\">\n",
       "      <th></th>\n",
       "      <th>state</th>\n",
       "      <th>st_abbr</th>\n",
       "      <th>fips</th>\n",
       "    </tr>\n",
       "  </thead>\n",
       "  <tbody>\n",
       "    <tr>\n",
       "      <th>0</th>\n",
       "      <td>Alabama</td>\n",
       "      <td>AL</td>\n",
       "      <td>01</td>\n",
       "    </tr>\n",
       "    <tr>\n",
       "      <th>1</th>\n",
       "      <td>Alaska</td>\n",
       "      <td>AK</td>\n",
       "      <td>02</td>\n",
       "    </tr>\n",
       "    <tr>\n",
       "      <th>2</th>\n",
       "      <td>Arizona</td>\n",
       "      <td>AZ</td>\n",
       "      <td>04</td>\n",
       "    </tr>\n",
       "    <tr>\n",
       "      <th>3</th>\n",
       "      <td>Arkansas</td>\n",
       "      <td>AR</td>\n",
       "      <td>05</td>\n",
       "    </tr>\n",
       "    <tr>\n",
       "      <th>4</th>\n",
       "      <td>California</td>\n",
       "      <td>CA</td>\n",
       "      <td>06</td>\n",
       "    </tr>\n",
       "  </tbody>\n",
       "</table>\n",
       "</div>"
      ],
      "text/plain": [
       "        state st_abbr fips\n",
       "0     Alabama      AL   01\n",
       "1      Alaska      AK   02\n",
       "2     Arizona      AZ   04\n",
       "3    Arkansas      AR   05\n",
       "4  California      CA   06"
      ]
     },
     "execution_count": 34,
     "metadata": {},
     "output_type": "execute_result"
    }
   ],
   "source": [
    "fips_df.head()"
   ]
  },
  {
   "cell_type": "code",
   "execution_count": 35,
   "id": "8a56a583",
   "metadata": {},
   "outputs": [
    {
     "data": {
      "text/plain": [
       "state      object\n",
       "st_abbr    object\n",
       "fips       object\n",
       "dtype: object"
      ]
     },
     "execution_count": 35,
     "metadata": {},
     "output_type": "execute_result"
    }
   ],
   "source": [
    "fips_df.dtypes"
   ]
  },
  {
   "cell_type": "code",
   "execution_count": 36,
   "id": "cd83b004",
   "metadata": {},
   "outputs": [
    {
     "data": {
      "text/html": [
       "<div>\n",
       "<style scoped>\n",
       "    .dataframe tbody tr th:only-of-type {\n",
       "        vertical-align: middle;\n",
       "    }\n",
       "\n",
       "    .dataframe tbody tr th {\n",
       "        vertical-align: top;\n",
       "    }\n",
       "\n",
       "    .dataframe thead th {\n",
       "        text-align: right;\n",
       "    }\n",
       "</style>\n",
       "<table border=\"1\" class=\"dataframe\">\n",
       "  <thead>\n",
       "    <tr style=\"text-align: right;\">\n",
       "      <th></th>\n",
       "      <th>gifford_ranked_law_strength</th>\n",
       "      <th>State</th>\n",
       "      <th>gifford_gun_law_grade</th>\n",
       "      <th>gun_date_rate_rank</th>\n",
       "      <th>gun_death_rate_per100K</th>\n",
       "      <th>gun_law_likert_scale</th>\n",
       "    </tr>\n",
       "  </thead>\n",
       "  <tbody>\n",
       "    <tr>\n",
       "      <th>0</th>\n",
       "      <td>1</td>\n",
       "      <td>California</td>\n",
       "      <td>A</td>\n",
       "      <td>43.0</td>\n",
       "      <td>9.0</td>\n",
       "      <td>Very strict</td>\n",
       "    </tr>\n",
       "    <tr>\n",
       "      <th>1</th>\n",
       "      <td>2</td>\n",
       "      <td>New Jersey</td>\n",
       "      <td>A</td>\n",
       "      <td>48.0</td>\n",
       "      <td>5.2</td>\n",
       "      <td>Very strict</td>\n",
       "    </tr>\n",
       "    <tr>\n",
       "      <th>2</th>\n",
       "      <td>3</td>\n",
       "      <td>Connecticut</td>\n",
       "      <td>A-</td>\n",
       "      <td>45.0</td>\n",
       "      <td>6.7</td>\n",
       "      <td>Very strict</td>\n",
       "    </tr>\n",
       "    <tr>\n",
       "      <th>3</th>\n",
       "      <td>5</td>\n",
       "      <td>Hawaii</td>\n",
       "      <td>A-</td>\n",
       "      <td>49.0</td>\n",
       "      <td>4.8</td>\n",
       "      <td>Very strict</td>\n",
       "    </tr>\n",
       "    <tr>\n",
       "      <th>4</th>\n",
       "      <td>8</td>\n",
       "      <td>Illinois</td>\n",
       "      <td>A-</td>\n",
       "      <td>26.0</td>\n",
       "      <td>16.1</td>\n",
       "      <td>Very strict</td>\n",
       "    </tr>\n",
       "  </tbody>\n",
       "</table>\n",
       "</div>"
      ],
      "text/plain": [
       "   gifford_ranked_law_strength        State gifford_gun_law_grade  \\\n",
       "0                            1   California                     A   \n",
       "1                            2   New Jersey                     A   \n",
       "2                            3  Connecticut                    A-   \n",
       "3                            5       Hawaii                    A-   \n",
       "4                            8     Illinois                    A-   \n",
       "\n",
       "   gun_date_rate_rank  gun_death_rate_per100K gun_law_likert_scale  \n",
       "0                43.0                     9.0          Very strict  \n",
       "1                48.0                     5.2          Very strict  \n",
       "2                45.0                     6.7          Very strict  \n",
       "3                49.0                     4.8          Very strict  \n",
       "4                26.0                    16.1          Very strict  "
      ]
     },
     "execution_count": 36,
     "metadata": {},
     "output_type": "execute_result"
    }
   ],
   "source": [
    "likert_df.head()"
   ]
  },
  {
   "cell_type": "code",
   "execution_count": 37,
   "id": "8cba13ec",
   "metadata": {},
   "outputs": [
    {
     "data": {
      "text/plain": [
       "gun_law_likert_scale\n",
       "Very strict     8\n",
       "lax             1\n",
       "moderate        8\n",
       "strict          8\n",
       "very lax       26\n",
       "Name: State, dtype: int64"
      ]
     },
     "execution_count": 37,
     "metadata": {},
     "output_type": "execute_result"
    }
   ],
   "source": [
    "likert_df.groupby('gun_law_likert_scale')['State'].count()"
   ]
  },
  {
   "cell_type": "code",
   "execution_count": 38,
   "id": "134dfae6",
   "metadata": {},
   "outputs": [
    {
     "data": {
      "text/plain": [
       "gifford_ranked_law_strength      int64\n",
       "State                           object\n",
       "gifford_gun_law_grade           object\n",
       "gun_date_rate_rank             float64\n",
       "gun_death_rate_per100K         float64\n",
       "gun_law_likert_scale            object\n",
       "dtype: object"
      ]
     },
     "execution_count": 38,
     "metadata": {},
     "output_type": "execute_result"
    }
   ],
   "source": [
    "likert_df.dtypes"
   ]
  },
  {
   "cell_type": "code",
   "execution_count": 39,
   "id": "01040ba6",
   "metadata": {},
   "outputs": [
    {
     "data": {
      "text/html": [
       "<div>\n",
       "<style scoped>\n",
       "    .dataframe tbody tr th:only-of-type {\n",
       "        vertical-align: middle;\n",
       "    }\n",
       "\n",
       "    .dataframe tbody tr th {\n",
       "        vertical-align: top;\n",
       "    }\n",
       "\n",
       "    .dataframe thead th {\n",
       "        text-align: right;\n",
       "    }\n",
       "</style>\n",
       "<table border=\"1\" class=\"dataframe\">\n",
       "  <thead>\n",
       "    <tr style=\"text-align: right;\">\n",
       "      <th></th>\n",
       "      <th>gifford_ranked_law_strength</th>\n",
       "      <th>State</th>\n",
       "      <th>gifford_gun_law_grade</th>\n",
       "      <th>gun_date_rate_rank</th>\n",
       "      <th>gun_death_rate_per100K</th>\n",
       "      <th>gun_law_likert_scale</th>\n",
       "      <th>likert_num</th>\n",
       "    </tr>\n",
       "  </thead>\n",
       "  <tbody>\n",
       "    <tr>\n",
       "      <th>0</th>\n",
       "      <td>1</td>\n",
       "      <td>California</td>\n",
       "      <td>A</td>\n",
       "      <td>43.0</td>\n",
       "      <td>9.0</td>\n",
       "      <td>Very strict</td>\n",
       "      <td>1</td>\n",
       "    </tr>\n",
       "    <tr>\n",
       "      <th>1</th>\n",
       "      <td>2</td>\n",
       "      <td>New Jersey</td>\n",
       "      <td>A</td>\n",
       "      <td>48.0</td>\n",
       "      <td>5.2</td>\n",
       "      <td>Very strict</td>\n",
       "      <td>1</td>\n",
       "    </tr>\n",
       "    <tr>\n",
       "      <th>2</th>\n",
       "      <td>3</td>\n",
       "      <td>Connecticut</td>\n",
       "      <td>A-</td>\n",
       "      <td>45.0</td>\n",
       "      <td>6.7</td>\n",
       "      <td>Very strict</td>\n",
       "      <td>1</td>\n",
       "    </tr>\n",
       "    <tr>\n",
       "      <th>3</th>\n",
       "      <td>5</td>\n",
       "      <td>Hawaii</td>\n",
       "      <td>A-</td>\n",
       "      <td>49.0</td>\n",
       "      <td>4.8</td>\n",
       "      <td>Very strict</td>\n",
       "      <td>1</td>\n",
       "    </tr>\n",
       "    <tr>\n",
       "      <th>4</th>\n",
       "      <td>8</td>\n",
       "      <td>Illinois</td>\n",
       "      <td>A-</td>\n",
       "      <td>26.0</td>\n",
       "      <td>16.1</td>\n",
       "      <td>Very strict</td>\n",
       "      <td>1</td>\n",
       "    </tr>\n",
       "    <tr>\n",
       "      <th>5</th>\n",
       "      <td>7</td>\n",
       "      <td>Maryland</td>\n",
       "      <td>A-</td>\n",
       "      <td>29.0</td>\n",
       "      <td>15.2</td>\n",
       "      <td>Very strict</td>\n",
       "      <td>1</td>\n",
       "    </tr>\n",
       "    <tr>\n",
       "      <th>6</th>\n",
       "      <td>6</td>\n",
       "      <td>Massachusetts</td>\n",
       "      <td>A-</td>\n",
       "      <td>50.0</td>\n",
       "      <td>3.4</td>\n",
       "      <td>Very strict</td>\n",
       "      <td>1</td>\n",
       "    </tr>\n",
       "    <tr>\n",
       "      <th>7</th>\n",
       "      <td>4</td>\n",
       "      <td>New York</td>\n",
       "      <td>A-</td>\n",
       "      <td>47.0</td>\n",
       "      <td>5.4</td>\n",
       "      <td>Very strict</td>\n",
       "      <td>1</td>\n",
       "    </tr>\n",
       "    <tr>\n",
       "      <th>8</th>\n",
       "      <td>0</td>\n",
       "      <td>District of Columbia</td>\n",
       "      <td>B+</td>\n",
       "      <td>NaN</td>\n",
       "      <td>NaN</td>\n",
       "      <td>strict</td>\n",
       "      <td>2</td>\n",
       "    </tr>\n",
       "    <tr>\n",
       "      <th>9</th>\n",
       "      <td>11</td>\n",
       "      <td>Oregon</td>\n",
       "      <td>B+</td>\n",
       "      <td>30.0</td>\n",
       "      <td>14.9</td>\n",
       "      <td>strict</td>\n",
       "      <td>2</td>\n",
       "    </tr>\n",
       "    <tr>\n",
       "      <th>10</th>\n",
       "      <td>9</td>\n",
       "      <td>Rhode Island</td>\n",
       "      <td>B+</td>\n",
       "      <td>46.0</td>\n",
       "      <td>5.6</td>\n",
       "      <td>strict</td>\n",
       "      <td>2</td>\n",
       "    </tr>\n",
       "    <tr>\n",
       "      <th>11</th>\n",
       "      <td>10</td>\n",
       "      <td>Washington</td>\n",
       "      <td>B+</td>\n",
       "      <td>39.0</td>\n",
       "      <td>11.2</td>\n",
       "      <td>strict</td>\n",
       "      <td>2</td>\n",
       "    </tr>\n",
       "    <tr>\n",
       "      <th>12</th>\n",
       "      <td>14</td>\n",
       "      <td>Colorado</td>\n",
       "      <td>B</td>\n",
       "      <td>18.0</td>\n",
       "      <td>17.8</td>\n",
       "      <td>strict</td>\n",
       "      <td>2</td>\n",
       "    </tr>\n",
       "    <tr>\n",
       "      <th>13</th>\n",
       "      <td>13</td>\n",
       "      <td>Delaware</td>\n",
       "      <td>B</td>\n",
       "      <td>23.0</td>\n",
       "      <td>16.6</td>\n",
       "      <td>strict</td>\n",
       "      <td>2</td>\n",
       "    </tr>\n",
       "    <tr>\n",
       "      <th>14</th>\n",
       "      <td>12</td>\n",
       "      <td>Virginia</td>\n",
       "      <td>B</td>\n",
       "      <td>32.0</td>\n",
       "      <td>14.3</td>\n",
       "      <td>strict</td>\n",
       "      <td>2</td>\n",
       "    </tr>\n",
       "  </tbody>\n",
       "</table>\n",
       "</div>"
      ],
      "text/plain": [
       "    gifford_ranked_law_strength                 State gifford_gun_law_grade  \\\n",
       "0                             1            California                     A   \n",
       "1                             2            New Jersey                     A   \n",
       "2                             3           Connecticut                    A-   \n",
       "3                             5                Hawaii                    A-   \n",
       "4                             8              Illinois                    A-   \n",
       "5                             7              Maryland                    A-   \n",
       "6                             6         Massachusetts                    A-   \n",
       "7                             4              New York                    A-   \n",
       "8                             0  District of Columbia                    B+   \n",
       "9                            11                Oregon                    B+   \n",
       "10                            9          Rhode Island                    B+   \n",
       "11                           10            Washington                    B+   \n",
       "12                           14              Colorado                     B   \n",
       "13                           13              Delaware                     B   \n",
       "14                           12              Virginia                     B   \n",
       "\n",
       "    gun_date_rate_rank  gun_death_rate_per100K gun_law_likert_scale  \\\n",
       "0                 43.0                     9.0          Very strict   \n",
       "1                 48.0                     5.2          Very strict   \n",
       "2                 45.0                     6.7          Very strict   \n",
       "3                 49.0                     4.8          Very strict   \n",
       "4                 26.0                    16.1          Very strict   \n",
       "5                 29.0                    15.2          Very strict   \n",
       "6                 50.0                     3.4          Very strict   \n",
       "7                 47.0                     5.4          Very strict   \n",
       "8                  NaN                     NaN               strict   \n",
       "9                 30.0                    14.9               strict   \n",
       "10                46.0                     5.6               strict   \n",
       "11                39.0                    11.2               strict   \n",
       "12                18.0                    17.8               strict   \n",
       "13                23.0                    16.6               strict   \n",
       "14                32.0                    14.3               strict   \n",
       "\n",
       "    likert_num  \n",
       "0            1  \n",
       "1            1  \n",
       "2            1  \n",
       "3            1  \n",
       "4            1  \n",
       "5            1  \n",
       "6            1  \n",
       "7            1  \n",
       "8            2  \n",
       "9            2  \n",
       "10           2  \n",
       "11           2  \n",
       "12           2  \n",
       "13           2  \n",
       "14           2  "
      ]
     },
     "execution_count": 39,
     "metadata": {},
     "output_type": "execute_result"
    }
   ],
   "source": [
    "likert_num = {'Very strict':1,'very strict':1,'strict':2,'moderate':3,'lax':4,'very lax':5}\n",
    "likert_df.loc[:,'likert_num'] = likert_df['gun_law_likert_scale'].apply(lambda col: likert_num[col])\n",
    "likert_df.head(15)"
   ]
  },
  {
   "cell_type": "markdown",
   "id": "5b351e07",
   "metadata": {},
   "source": [
    "### Data Wrangling"
   ]
  },
  {
   "cell_type": "code",
   "execution_count": 40,
   "id": "0761177f",
   "metadata": {},
   "outputs": [],
   "source": [
    "state_supp_df = pd.merge(likert_df,fips_df,left_on='State',right_on='state')"
   ]
  },
  {
   "cell_type": "code",
   "execution_count": 41,
   "id": "c9278938",
   "metadata": {},
   "outputs": [
    {
     "data": {
      "text/html": [
       "<div>\n",
       "<style scoped>\n",
       "    .dataframe tbody tr th:only-of-type {\n",
       "        vertical-align: middle;\n",
       "    }\n",
       "\n",
       "    .dataframe tbody tr th {\n",
       "        vertical-align: top;\n",
       "    }\n",
       "\n",
       "    .dataframe thead th {\n",
       "        text-align: right;\n",
       "    }\n",
       "</style>\n",
       "<table border=\"1\" class=\"dataframe\">\n",
       "  <thead>\n",
       "    <tr style=\"text-align: right;\">\n",
       "      <th></th>\n",
       "      <th>year_and_quarter</th>\n",
       "      <th>time_period</th>\n",
       "      <th>cause_of_death</th>\n",
       "      <th>rate_type</th>\n",
       "      <th>unit</th>\n",
       "      <th>rate_overall</th>\n",
       "      <th>rate_sex_female</th>\n",
       "      <th>rate_sex_male</th>\n",
       "      <th>rate_alaska</th>\n",
       "      <th>rate_alabama</th>\n",
       "      <th>...</th>\n",
       "      <th>rate_age_1_4</th>\n",
       "      <th>rate_age_5_14</th>\n",
       "      <th>rate_age_15_24</th>\n",
       "      <th>rate_age_25_34</th>\n",
       "      <th>rate_age_35_44</th>\n",
       "      <th>rate_age_45_54</th>\n",
       "      <th>rate_age_55_64</th>\n",
       "      <th>rate_65_74</th>\n",
       "      <th>rate_age_75_84</th>\n",
       "      <th>rate_age_85_plus</th>\n",
       "    </tr>\n",
       "  </thead>\n",
       "  <tbody>\n",
       "    <tr>\n",
       "      <th>0</th>\n",
       "      <td>2020 Q1</td>\n",
       "      <td>12 months ending with quarter</td>\n",
       "      <td>Firearm-related injury</td>\n",
       "      <td>Age-adjusted</td>\n",
       "      <td>Deaths per 100,000</td>\n",
       "      <td>12</td>\n",
       "      <td>3.4</td>\n",
       "      <td>21.1</td>\n",
       "      <td>23</td>\n",
       "      <td>21.8</td>\n",
       "      <td>...</td>\n",
       "      <td>NaN</td>\n",
       "      <td>NaN</td>\n",
       "      <td>NaN</td>\n",
       "      <td>NaN</td>\n",
       "      <td>NaN</td>\n",
       "      <td>NaN</td>\n",
       "      <td>NaN</td>\n",
       "      <td>NaN</td>\n",
       "      <td>NaN</td>\n",
       "      <td>NaN</td>\n",
       "    </tr>\n",
       "    <tr>\n",
       "      <th>1</th>\n",
       "      <td>2020 Q1</td>\n",
       "      <td>3-month period</td>\n",
       "      <td>Firearm-related injury</td>\n",
       "      <td>Age-adjusted</td>\n",
       "      <td>Deaths per 100,000</td>\n",
       "      <td>12.1</td>\n",
       "      <td>3.2</td>\n",
       "      <td>21.3</td>\n",
       "      <td>21.4</td>\n",
       "      <td>23</td>\n",
       "      <td>...</td>\n",
       "      <td>NaN</td>\n",
       "      <td>NaN</td>\n",
       "      <td>NaN</td>\n",
       "      <td>NaN</td>\n",
       "      <td>NaN</td>\n",
       "      <td>NaN</td>\n",
       "      <td>NaN</td>\n",
       "      <td>NaN</td>\n",
       "      <td>NaN</td>\n",
       "      <td>NaN</td>\n",
       "    </tr>\n",
       "    <tr>\n",
       "      <th>2</th>\n",
       "      <td>2020 Q2</td>\n",
       "      <td>12 months ending with quarter</td>\n",
       "      <td>Firearm-related injury</td>\n",
       "      <td>Age-adjusted</td>\n",
       "      <td>Deaths per 100,000</td>\n",
       "      <td>12.3</td>\n",
       "      <td>3.4</td>\n",
       "      <td>21.6</td>\n",
       "      <td>22.7</td>\n",
       "      <td>22.6</td>\n",
       "      <td>...</td>\n",
       "      <td>NaN</td>\n",
       "      <td>NaN</td>\n",
       "      <td>NaN</td>\n",
       "      <td>NaN</td>\n",
       "      <td>NaN</td>\n",
       "      <td>NaN</td>\n",
       "      <td>NaN</td>\n",
       "      <td>NaN</td>\n",
       "      <td>NaN</td>\n",
       "      <td>NaN</td>\n",
       "    </tr>\n",
       "    <tr>\n",
       "      <th>3</th>\n",
       "      <td>2020 Q2</td>\n",
       "      <td>3-month period</td>\n",
       "      <td>Firearm-related injury</td>\n",
       "      <td>Age-adjusted</td>\n",
       "      <td>Deaths per 100,000</td>\n",
       "      <td>13.1</td>\n",
       "      <td>3.7</td>\n",
       "      <td>22.9</td>\n",
       "      <td>20.2</td>\n",
       "      <td>23.4</td>\n",
       "      <td>...</td>\n",
       "      <td>NaN</td>\n",
       "      <td>NaN</td>\n",
       "      <td>NaN</td>\n",
       "      <td>NaN</td>\n",
       "      <td>NaN</td>\n",
       "      <td>NaN</td>\n",
       "      <td>NaN</td>\n",
       "      <td>NaN</td>\n",
       "      <td>NaN</td>\n",
       "      <td>NaN</td>\n",
       "    </tr>\n",
       "    <tr>\n",
       "      <th>4</th>\n",
       "      <td>2020 Q3</td>\n",
       "      <td>12 months ending with quarter</td>\n",
       "      <td>Firearm-related injury</td>\n",
       "      <td>Age-adjusted</td>\n",
       "      <td>Deaths per 100,000</td>\n",
       "      <td>13</td>\n",
       "      <td>3.6</td>\n",
       "      <td>22.7</td>\n",
       "      <td>24.5</td>\n",
       "      <td>23.1</td>\n",
       "      <td>...</td>\n",
       "      <td>NaN</td>\n",
       "      <td>NaN</td>\n",
       "      <td>NaN</td>\n",
       "      <td>NaN</td>\n",
       "      <td>NaN</td>\n",
       "      <td>NaN</td>\n",
       "      <td>NaN</td>\n",
       "      <td>NaN</td>\n",
       "      <td>NaN</td>\n",
       "      <td>NaN</td>\n",
       "    </tr>\n",
       "  </tbody>\n",
       "</table>\n",
       "<p>5 rows × 69 columns</p>\n",
       "</div>"
      ],
      "text/plain": [
       "  year_and_quarter                    time_period          cause_of_death  \\\n",
       "0          2020 Q1  12 months ending with quarter  Firearm-related injury   \n",
       "1          2020 Q1                 3-month period  Firearm-related injury   \n",
       "2          2020 Q2  12 months ending with quarter  Firearm-related injury   \n",
       "3          2020 Q2                 3-month period  Firearm-related injury   \n",
       "4          2020 Q3  12 months ending with quarter  Firearm-related injury   \n",
       "\n",
       "      rate_type                unit rate_overall rate_sex_female  \\\n",
       "0  Age-adjusted  Deaths per 100,000           12             3.4   \n",
       "1  Age-adjusted  Deaths per 100,000         12.1             3.2   \n",
       "2  Age-adjusted  Deaths per 100,000         12.3             3.4   \n",
       "3  Age-adjusted  Deaths per 100,000         13.1             3.7   \n",
       "4  Age-adjusted  Deaths per 100,000           13             3.6   \n",
       "\n",
       "  rate_sex_male rate_alaska rate_alabama  ... rate_age_1_4 rate_age_5_14  \\\n",
       "0          21.1          23         21.8  ...          NaN           NaN   \n",
       "1          21.3        21.4           23  ...          NaN           NaN   \n",
       "2          21.6        22.7         22.6  ...          NaN           NaN   \n",
       "3          22.9        20.2         23.4  ...          NaN           NaN   \n",
       "4          22.7        24.5         23.1  ...          NaN           NaN   \n",
       "\n",
       "  rate_age_15_24 rate_age_25_34 rate_age_35_44 rate_age_45_54 rate_age_55_64  \\\n",
       "0            NaN            NaN            NaN            NaN            NaN   \n",
       "1            NaN            NaN            NaN            NaN            NaN   \n",
       "2            NaN            NaN            NaN            NaN            NaN   \n",
       "3            NaN            NaN            NaN            NaN            NaN   \n",
       "4            NaN            NaN            NaN            NaN            NaN   \n",
       "\n",
       "  rate_65_74 rate_age_75_84 rate_age_85_plus  \n",
       "0        NaN            NaN              NaN  \n",
       "1        NaN            NaN              NaN  \n",
       "2        NaN            NaN              NaN  \n",
       "3        NaN            NaN              NaN  \n",
       "4        NaN            NaN              NaN  \n",
       "\n",
       "[5 rows x 69 columns]"
      ]
     },
     "execution_count": 41,
     "metadata": {},
     "output_type": "execute_result"
    }
   ],
   "source": [
    "df.head()"
   ]
  },
  {
   "cell_type": "code",
   "execution_count": 42,
   "id": "9a88ff4e",
   "metadata": {},
   "outputs": [
    {
     "name": "stderr",
     "output_type": "stream",
     "text": [
      "/var/folders/d5/98xjjxvs53s2lf63ml40f_sc0000gn/T/ipykernel_2666/2513935099.py:2: SettingWithCopyWarning:\n",
      "\n",
      "\n",
      "A value is trying to be set on a copy of a slice from a DataFrame\n",
      "\n",
      "See the caveats in the documentation: https://pandas.pydata.org/pandas-docs/stable/user_guide/indexing.html#returning-a-view-versus-a-copy\n",
      "\n"
     ]
    }
   ],
   "source": [
    "annual_df = df[(df['time_period']!='3-month period') & (df['rate_type']=='Crude')]\n",
    "annual_df.rename(columns={'rate_type':'type'},inplace=True)      "
   ]
  },
  {
   "cell_type": "code",
   "execution_count": 43,
   "id": "552364a2",
   "metadata": {},
   "outputs": [
    {
     "data": {
      "text/html": [
       "<div>\n",
       "<style scoped>\n",
       "    .dataframe tbody tr th:only-of-type {\n",
       "        vertical-align: middle;\n",
       "    }\n",
       "\n",
       "    .dataframe tbody tr th {\n",
       "        vertical-align: top;\n",
       "    }\n",
       "\n",
       "    .dataframe thead th {\n",
       "        text-align: right;\n",
       "    }\n",
       "</style>\n",
       "<table border=\"1\" class=\"dataframe\">\n",
       "  <thead>\n",
       "    <tr style=\"text-align: right;\">\n",
       "      <th></th>\n",
       "      <th>year_and_quarter</th>\n",
       "      <th>time_period</th>\n",
       "      <th>cause_of_death</th>\n",
       "      <th>type</th>\n",
       "      <th>unit</th>\n",
       "      <th>measure_name</th>\n",
       "      <th>value</th>\n",
       "      <th>state</th>\n",
       "      <th>value_num</th>\n",
       "    </tr>\n",
       "  </thead>\n",
       "  <tbody>\n",
       "    <tr>\n",
       "      <th>36</th>\n",
       "      <td>2020 Q1</td>\n",
       "      <td>12 months ending with quarter</td>\n",
       "      <td>Firearm-related injury</td>\n",
       "      <td>Crude</td>\n",
       "      <td>Deaths per 100,000</td>\n",
       "      <td>rate_alaska</td>\n",
       "      <td>23.4</td>\n",
       "      <td>Alaska</td>\n",
       "      <td>23.4</td>\n",
       "    </tr>\n",
       "    <tr>\n",
       "      <th>37</th>\n",
       "      <td>2020 Q2</td>\n",
       "      <td>12 months ending with quarter</td>\n",
       "      <td>Firearm-related injury</td>\n",
       "      <td>Crude</td>\n",
       "      <td>Deaths per 100,000</td>\n",
       "      <td>rate_alaska</td>\n",
       "      <td>23.3</td>\n",
       "      <td>Alaska</td>\n",
       "      <td>23.3</td>\n",
       "    </tr>\n",
       "    <tr>\n",
       "      <th>38</th>\n",
       "      <td>2020 Q3</td>\n",
       "      <td>12 months ending with quarter</td>\n",
       "      <td>Firearm-related injury</td>\n",
       "      <td>Crude</td>\n",
       "      <td>Deaths per 100,000</td>\n",
       "      <td>rate_alaska</td>\n",
       "      <td>25.3</td>\n",
       "      <td>Alaska</td>\n",
       "      <td>25.3</td>\n",
       "    </tr>\n",
       "    <tr>\n",
       "      <th>39</th>\n",
       "      <td>2020 Q4</td>\n",
       "      <td>12 months ending with quarter</td>\n",
       "      <td>Firearm-related injury</td>\n",
       "      <td>Crude</td>\n",
       "      <td>Deaths per 100,000</td>\n",
       "      <td>rate_alaska</td>\n",
       "      <td>23.9</td>\n",
       "      <td>Alaska</td>\n",
       "      <td>23.9</td>\n",
       "    </tr>\n",
       "    <tr>\n",
       "      <th>40</th>\n",
       "      <td>2021 Q1</td>\n",
       "      <td>12 months ending with quarter</td>\n",
       "      <td>Firearm-related injury</td>\n",
       "      <td>Crude</td>\n",
       "      <td>Deaths per 100,000</td>\n",
       "      <td>rate_alaska</td>\n",
       "      <td>23.1</td>\n",
       "      <td>Alaska</td>\n",
       "      <td>23.1</td>\n",
       "    </tr>\n",
       "  </tbody>\n",
       "</table>\n",
       "</div>"
      ],
      "text/plain": [
       "   year_and_quarter                    time_period          cause_of_death  \\\n",
       "36          2020 Q1  12 months ending with quarter  Firearm-related injury   \n",
       "37          2020 Q2  12 months ending with quarter  Firearm-related injury   \n",
       "38          2020 Q3  12 months ending with quarter  Firearm-related injury   \n",
       "39          2020 Q4  12 months ending with quarter  Firearm-related injury   \n",
       "40          2021 Q1  12 months ending with quarter  Firearm-related injury   \n",
       "\n",
       "     type                unit measure_name value   state  value_num  \n",
       "36  Crude  Deaths per 100,000  rate_alaska  23.4  Alaska       23.4  \n",
       "37  Crude  Deaths per 100,000  rate_alaska  23.3  Alaska       23.3  \n",
       "38  Crude  Deaths per 100,000  rate_alaska  25.3  Alaska       25.3  \n",
       "39  Crude  Deaths per 100,000  rate_alaska  23.9  Alaska       23.9  \n",
       "40  Crude  Deaths per 100,000  rate_alaska  23.1  Alaska       23.1  "
      ]
     },
     "execution_count": 43,
     "metadata": {},
     "output_type": "execute_result"
    }
   ],
   "source": [
    "df_long = pd.melt(annual_df,id_vars=['year_and_quarter', 'time_period', 'cause_of_death', 'type',\n",
    "       'unit'],var_name='measure_name')\n",
    "df_states = df_long[~df_long.measure_name.str.contains('\\d|overall|sex',regex=True)].copy()\n",
    "df_states.loc[:,'state'] = df_states['measure_name'].apply(lambda col: col.replace('rate_','').replace('_',' ').title())\n",
    "df_states.loc[df_states['state']=='District Of Columbia','state'] = 'District of Columbia'\n",
    "df_states.loc[:,'value_num'] =  pd.to_numeric(df_states['value'])\n",
    "df_states.head()"
   ]
  },
  {
   "cell_type": "code",
   "execution_count": 44,
   "id": "04392642",
   "metadata": {},
   "outputs": [
    {
     "data": {
      "text/plain": [
       "count    561.000000\n",
       "mean      15.677540\n",
       "std        6.308466\n",
       "min        3.300000\n",
       "25%       11.600000\n",
       "50%       15.300000\n",
       "75%       20.500000\n",
       "max       33.000000\n",
       "Name: value_num, dtype: float64"
      ]
     },
     "execution_count": 44,
     "metadata": {},
     "output_type": "execute_result"
    }
   ],
   "source": [
    "df_states['value_num'].describe()"
   ]
  },
  {
   "cell_type": "code",
   "execution_count": 45,
   "id": "8fb49df3",
   "metadata": {},
   "outputs": [
    {
     "data": {
      "text/html": [
       "<div>\n",
       "<style scoped>\n",
       "    .dataframe tbody tr th:only-of-type {\n",
       "        vertical-align: middle;\n",
       "    }\n",
       "\n",
       "    .dataframe tbody tr th {\n",
       "        vertical-align: top;\n",
       "    }\n",
       "\n",
       "    .dataframe thead th {\n",
       "        text-align: right;\n",
       "    }\n",
       "</style>\n",
       "<table border=\"1\" class=\"dataframe\">\n",
       "  <thead>\n",
       "    <tr style=\"text-align: right;\">\n",
       "      <th></th>\n",
       "      <th>year_and_quarter</th>\n",
       "      <th>time_period</th>\n",
       "      <th>cause_of_death</th>\n",
       "      <th>type</th>\n",
       "      <th>unit</th>\n",
       "      <th>measure_name</th>\n",
       "      <th>value</th>\n",
       "      <th>state</th>\n",
       "      <th>value_num</th>\n",
       "    </tr>\n",
       "  </thead>\n",
       "  <tbody>\n",
       "  </tbody>\n",
       "</table>\n",
       "</div>"
      ],
      "text/plain": [
       "Empty DataFrame\n",
       "Columns: [year_and_quarter, time_period, cause_of_death, type, unit, measure_name, value, state, value_num]\n",
       "Index: []"
      ]
     },
     "execution_count": 45,
     "metadata": {},
     "output_type": "execute_result"
    }
   ],
   "source": [
    "df_states[(df_states['value_num'].isna())&(~df_states['value'].isna())]"
   ]
  },
  {
   "cell_type": "code",
   "execution_count": 46,
   "id": "0a4ee553",
   "metadata": {},
   "outputs": [
    {
     "data": {
      "text/plain": [
       "year_and_quarter     object\n",
       "time_period          object\n",
       "cause_of_death       object\n",
       "type                 object\n",
       "unit                 object\n",
       "measure_name         object\n",
       "value                object\n",
       "state                object\n",
       "value_num           float64\n",
       "dtype: object"
      ]
     },
     "execution_count": 46,
     "metadata": {},
     "output_type": "execute_result"
    }
   ],
   "source": [
    "df_states.dtypes"
   ]
  },
  {
   "cell_type": "code",
   "execution_count": 47,
   "id": "034a7a1f",
   "metadata": {},
   "outputs": [
    {
     "data": {
      "text/plain": [
       "(51, 9)"
      ]
     },
     "execution_count": 47,
     "metadata": {},
     "output_type": "execute_result"
    }
   ],
   "source": [
    "df_states.loc[pd.isna(df_states['value']),:].shape"
   ]
  },
  {
   "cell_type": "code",
   "execution_count": 48,
   "id": "e746cbe2",
   "metadata": {},
   "outputs": [
    {
     "data": {
      "text/plain": [
       "array(['Alaska', 'Alabama', 'Arkansas', 'Arizona', 'California',\n",
       "       'Colorado', 'Connecticut', 'District of Columbia', 'Delaware',\n",
       "       'Florida', 'Georgia', 'Hawaii', 'Iowa', 'Idaho', 'Illinois',\n",
       "       'Indiana', 'Kansas', 'Kentucky', 'Louisiana', 'Massachusetts',\n",
       "       'Maryland', 'Maine', 'Michigan', 'Minnesota', 'Missouri',\n",
       "       'Mississippi', 'Montana', 'North Carolina', 'North Dakota',\n",
       "       'Nebraska', 'New Hampshire', 'New Jersey', 'New Mexico', 'Nevada',\n",
       "       'New York', 'Ohio', 'Oklahoma', 'Oregon', 'Pennsylvania',\n",
       "       'Rhode Island', 'South Carolina', 'South Dakota', 'Tennessee',\n",
       "       'Texas', 'Utah', 'Virginia', 'Vermont', 'Washington', 'Wisconsin',\n",
       "       'West Virginia', 'Wyoming'], dtype=object)"
      ]
     },
     "execution_count": 48,
     "metadata": {},
     "output_type": "execute_result"
    }
   ],
   "source": [
    "df_states['state'].unique()"
   ]
  },
  {
   "cell_type": "code",
   "execution_count": 49,
   "id": "9a9fd24d",
   "metadata": {},
   "outputs": [
    {
     "data": {
      "text/plain": [
       "(51, (612, 9))"
      ]
     },
     "execution_count": 49,
     "metadata": {},
     "output_type": "execute_result"
    }
   ],
   "source": [
    "(len(set(df_states.state)),df_states.shape)"
   ]
  },
  {
   "cell_type": "code",
   "execution_count": 50,
   "id": "caab66f2",
   "metadata": {},
   "outputs": [
    {
     "data": {
      "text/html": [
       "<div>\n",
       "<style scoped>\n",
       "    .dataframe tbody tr th:only-of-type {\n",
       "        vertical-align: middle;\n",
       "    }\n",
       "\n",
       "    .dataframe tbody tr th {\n",
       "        vertical-align: top;\n",
       "    }\n",
       "\n",
       "    .dataframe thead th {\n",
       "        text-align: right;\n",
       "    }\n",
       "</style>\n",
       "<table border=\"1\" class=\"dataframe\">\n",
       "  <thead>\n",
       "    <tr style=\"text-align: right;\">\n",
       "      <th></th>\n",
       "      <th>year_and_quarter</th>\n",
       "      <th>time_period</th>\n",
       "      <th>cause_of_death</th>\n",
       "      <th>type</th>\n",
       "      <th>unit</th>\n",
       "      <th>measure_name</th>\n",
       "      <th>value</th>\n",
       "      <th>state</th>\n",
       "      <th>value_num</th>\n",
       "      <th>gifford_ranked_law_strength</th>\n",
       "      <th>State</th>\n",
       "      <th>gifford_gun_law_grade</th>\n",
       "      <th>gun_date_rate_rank</th>\n",
       "      <th>gun_death_rate_per100K</th>\n",
       "      <th>gun_law_likert_scale</th>\n",
       "      <th>likert_num</th>\n",
       "      <th>st_abbr</th>\n",
       "      <th>fips</th>\n",
       "    </tr>\n",
       "  </thead>\n",
       "  <tbody>\n",
       "    <tr>\n",
       "      <th>0</th>\n",
       "      <td>2020 Q1</td>\n",
       "      <td>12 months ending with quarter</td>\n",
       "      <td>Firearm-related injury</td>\n",
       "      <td>Crude</td>\n",
       "      <td>Deaths per 100,000</td>\n",
       "      <td>rate_alaska</td>\n",
       "      <td>23.4</td>\n",
       "      <td>Alaska</td>\n",
       "      <td>23.4</td>\n",
       "      <td>41</td>\n",
       "      <td>Alaska</td>\n",
       "      <td>F</td>\n",
       "      <td>6.0</td>\n",
       "      <td>25.2</td>\n",
       "      <td>very lax</td>\n",
       "      <td>5</td>\n",
       "      <td>AK</td>\n",
       "      <td>02</td>\n",
       "    </tr>\n",
       "    <tr>\n",
       "      <th>1</th>\n",
       "      <td>2020 Q2</td>\n",
       "      <td>12 months ending with quarter</td>\n",
       "      <td>Firearm-related injury</td>\n",
       "      <td>Crude</td>\n",
       "      <td>Deaths per 100,000</td>\n",
       "      <td>rate_alaska</td>\n",
       "      <td>23.3</td>\n",
       "      <td>Alaska</td>\n",
       "      <td>23.3</td>\n",
       "      <td>41</td>\n",
       "      <td>Alaska</td>\n",
       "      <td>F</td>\n",
       "      <td>6.0</td>\n",
       "      <td>25.2</td>\n",
       "      <td>very lax</td>\n",
       "      <td>5</td>\n",
       "      <td>AK</td>\n",
       "      <td>02</td>\n",
       "    </tr>\n",
       "    <tr>\n",
       "      <th>2</th>\n",
       "      <td>2020 Q3</td>\n",
       "      <td>12 months ending with quarter</td>\n",
       "      <td>Firearm-related injury</td>\n",
       "      <td>Crude</td>\n",
       "      <td>Deaths per 100,000</td>\n",
       "      <td>rate_alaska</td>\n",
       "      <td>25.3</td>\n",
       "      <td>Alaska</td>\n",
       "      <td>25.3</td>\n",
       "      <td>41</td>\n",
       "      <td>Alaska</td>\n",
       "      <td>F</td>\n",
       "      <td>6.0</td>\n",
       "      <td>25.2</td>\n",
       "      <td>very lax</td>\n",
       "      <td>5</td>\n",
       "      <td>AK</td>\n",
       "      <td>02</td>\n",
       "    </tr>\n",
       "    <tr>\n",
       "      <th>3</th>\n",
       "      <td>2020 Q4</td>\n",
       "      <td>12 months ending with quarter</td>\n",
       "      <td>Firearm-related injury</td>\n",
       "      <td>Crude</td>\n",
       "      <td>Deaths per 100,000</td>\n",
       "      <td>rate_alaska</td>\n",
       "      <td>23.9</td>\n",
       "      <td>Alaska</td>\n",
       "      <td>23.9</td>\n",
       "      <td>41</td>\n",
       "      <td>Alaska</td>\n",
       "      <td>F</td>\n",
       "      <td>6.0</td>\n",
       "      <td>25.2</td>\n",
       "      <td>very lax</td>\n",
       "      <td>5</td>\n",
       "      <td>AK</td>\n",
       "      <td>02</td>\n",
       "    </tr>\n",
       "    <tr>\n",
       "      <th>4</th>\n",
       "      <td>2021 Q1</td>\n",
       "      <td>12 months ending with quarter</td>\n",
       "      <td>Firearm-related injury</td>\n",
       "      <td>Crude</td>\n",
       "      <td>Deaths per 100,000</td>\n",
       "      <td>rate_alaska</td>\n",
       "      <td>23.1</td>\n",
       "      <td>Alaska</td>\n",
       "      <td>23.1</td>\n",
       "      <td>41</td>\n",
       "      <td>Alaska</td>\n",
       "      <td>F</td>\n",
       "      <td>6.0</td>\n",
       "      <td>25.2</td>\n",
       "      <td>very lax</td>\n",
       "      <td>5</td>\n",
       "      <td>AK</td>\n",
       "      <td>02</td>\n",
       "    </tr>\n",
       "  </tbody>\n",
       "</table>\n",
       "</div>"
      ],
      "text/plain": [
       "  year_and_quarter                    time_period          cause_of_death  \\\n",
       "0          2020 Q1  12 months ending with quarter  Firearm-related injury   \n",
       "1          2020 Q2  12 months ending with quarter  Firearm-related injury   \n",
       "2          2020 Q3  12 months ending with quarter  Firearm-related injury   \n",
       "3          2020 Q4  12 months ending with quarter  Firearm-related injury   \n",
       "4          2021 Q1  12 months ending with quarter  Firearm-related injury   \n",
       "\n",
       "    type                unit measure_name value   state  value_num  \\\n",
       "0  Crude  Deaths per 100,000  rate_alaska  23.4  Alaska       23.4   \n",
       "1  Crude  Deaths per 100,000  rate_alaska  23.3  Alaska       23.3   \n",
       "2  Crude  Deaths per 100,000  rate_alaska  25.3  Alaska       25.3   \n",
       "3  Crude  Deaths per 100,000  rate_alaska  23.9  Alaska       23.9   \n",
       "4  Crude  Deaths per 100,000  rate_alaska  23.1  Alaska       23.1   \n",
       "\n",
       "   gifford_ranked_law_strength   State gifford_gun_law_grade  \\\n",
       "0                           41  Alaska                     F   \n",
       "1                           41  Alaska                     F   \n",
       "2                           41  Alaska                     F   \n",
       "3                           41  Alaska                     F   \n",
       "4                           41  Alaska                     F   \n",
       "\n",
       "   gun_date_rate_rank  gun_death_rate_per100K gun_law_likert_scale  \\\n",
       "0                 6.0                    25.2             very lax   \n",
       "1                 6.0                    25.2             very lax   \n",
       "2                 6.0                    25.2             very lax   \n",
       "3                 6.0                    25.2             very lax   \n",
       "4                 6.0                    25.2             very lax   \n",
       "\n",
       "   likert_num st_abbr fips  \n",
       "0           5      AK   02  \n",
       "1           5      AK   02  \n",
       "2           5      AK   02  \n",
       "3           5      AK   02  \n",
       "4           5      AK   02  "
      ]
     },
     "execution_count": 50,
     "metadata": {},
     "output_type": "execute_result"
    }
   ],
   "source": [
    "df_states_final = pd.merge(df_states,state_supp_df,left_on='state',right_on='state',suffixes=[None,'_right'])\n",
    "df_states_final.loc[:,'gun_law_likert_scale'] = df_states_final['gun_law_likert_scale'].apply(lambda x: x.lower())\n",
    "df_states_final.head()"
   ]
  },
  {
   "cell_type": "code",
   "execution_count": 51,
   "id": "213ac1aa",
   "metadata": {},
   "outputs": [
    {
     "data": {
      "text/plain": [
       "(612, 18)"
      ]
     },
     "execution_count": 51,
     "metadata": {},
     "output_type": "execute_result"
    }
   ],
   "source": [
    "df_states_final.shape"
   ]
  },
  {
   "cell_type": "markdown",
   "id": "56570437",
   "metadata": {},
   "source": [
    "Story -3 : Do stricter gun laws reduce firearm gun deaths?\n",
    "The CDC publishes firearm mortality for each State per 100,000 persons https://www.cdc.gov/nchs/pressroom/sosmap/firearm_mortality/firearm.htm. Each State' firearm control laws can be categorized as very strict to very lax. The purpose of this Story is to answer the question, \" Do stricter firearm control laws help reduce firearm mortality?\"\n",
    "For this assignment you will need to:\n",
    "Access the firearm mortality data from the CDC using an available API (https://open.cdc.gov/apis.html)\n",
    "\n",
    "Create a 5 point Likert scale categorizing gun control laws from most lax to strictest and assign each state to the most appropriate Likert bin.\n",
    "\n",
    "Determine wether stricter gun control laws result in reduced gun violence deaths\n",
    "\n",
    "Present your story using  heat maps\n",
    "Notes:\n",
    "You may not use the same desktop application that you have used for a previous story.\n",
    "\n",
    "If you use color in your visuals you must use an accessible color palette. "
   ]
  },
  {
   "cell_type": "markdown",
   "id": "2f21a6bc",
   "metadata": {},
   "source": [
    "##### Reviewing Plotly available color palettes"
   ]
  },
  {
   "cell_type": "code",
   "execution_count": 52,
   "id": "cdd9bf6e",
   "metadata": {},
   "outputs": [
    {
     "data": {
      "image/png": "[encoded data removed]",
      "text/plain": [
       "<IPython.core.display.Image object>"
      ]
     },
     "execution_count": 52,
     "metadata": {},
     "output_type": "execute_result"
    }
   ],
   "source": [
    "fig = px.colors.qualitative.swatches()\n",
    "fig_bytes = fig.to_image(format=\"png\")\n",
    "Image(fig_bytes)"
   ]
  },
  {
   "cell_type": "code",
   "execution_count": 53,
   "id": "4b9c37f7",
   "metadata": {},
   "outputs": [
    {
     "name": "stderr",
     "output_type": "stream",
     "text": [
      "/var/folders/d5/98xjjxvs53s2lf63ml40f_sc0000gn/T/ipykernel_2666/614798058.py:3: SettingWithCopyWarning:\n",
      "\n",
      "\n",
      "A value is trying to be set on a copy of a slice from a DataFrame.\n",
      "Try using .loc[row_indexer,col_indexer] = value instead\n",
      "\n",
      "See the caveats in the documentation: https://pandas.pydata.org/pandas-docs/stable/user_guide/indexing.html#returning-a-view-versus-a-copy\n",
      "\n"
     ]
    }
   ],
   "source": [
    "viz_df = df_states_final[(df_states_final['year_and_quarter'].str.contains('Q4')) & (df_states_final['year_and_quarter'].str.contains('2021'))]\n",
    "viz_all_years_df = df_states_final[(df_states_final['year_and_quarter'].str.contains('Q3'))]\n",
    "viz_all_years_df.loc[:,'Year'] = viz_all_years_df['year_and_quarter'].apply(lambda x: x[0:4])\n",
    "#viz_all_years_df.groupby('Year')['type'].count()"
   ]
  },
  {
   "cell_type": "code",
   "execution_count": 72,
   "id": "ac692d59",
   "metadata": {},
   "outputs": [
    {
     "data": {
      "image/png": "[encoded data removed]",
      "text/plain": [
       "<IPython.core.display.Image object>"
      ]
     },
     "execution_count": 72,
     "metadata": {},
     "output_type": "execute_result"
    }
   ],
   "source": [
    "fig_bar = px.bar(viz_df,\n",
    "                 x='value_num',y='st_abbr',\n",
    "                 color='gun_law_likert_scale',title='Very Lax Laws in 2022 lead to higher firearm deaths',\n",
    "                # color_discrete_sequence=px.colors.qualitative.D3,\n",
    "                category_orders={'gun_law_likert_scale':['very strict','strict','moderate','lax','very lax']})\n",
    "fig_bar.update_layout(yaxis={'categoryorder':'total ascending','title':'US States'},\n",
    "                      xaxis={'title':'Firearm deaths per 100k<br><br><sup>Source: CDC for fatalities & Giffords for gun law evaluations<sup>'},\n",
    "                      legend=dict(x=0.72,y=0.25,title='Gun Law Likert Scale')) \n",
    "fig_bar_img = fig_bar.to_image(format=\"png\")\n",
    "Image(fig_bar_img)"
   ]
  },
  {
   "cell_type": "code",
   "execution_count": 62,
   "id": "d60178b6",
   "metadata": {},
   "outputs": [
    {
     "data": {
      "image/png": "[encoded data removed]",
      "text/plain": [
       "<IPython.core.display.Image object>"
      ]
     },
     "execution_count": 62,
     "metadata": {},
     "output_type": "execute_result"
    }
   ],
   "source": [
    "fig_box = px.box(viz_all_years_df,x='gun_law_likert_scale',y='value_num',color='Year',\n",
    "       labels={\"value_num\": \"Firearm deaths per 100k\",\n",
    "               \"gun_law_likert_scale\": \"Gun Law Likert Scale\",'year_and_quarter':'Year'},\n",
    "       color_discrete_sequence=px.colors.qualitative.D3,\n",
    "       title='Firearm deaths are far lower on average in states with more gun laws',\n",
    "      category_orders={'gun_law_likert_scale':['very strict','strict','moderate','lax','very lax']})\n",
    "fig_box.add_annotation(x=0.01, y=17,\n",
    "            text=\"Very strict laws minimize fatalities\",\n",
    "            showarrow=True,\n",
    "            arrowhead=1)\n",
    "fig_box_img = fig_box.to_image(format=\"png\")\n",
    "Image(fig_box_img)"
   ]
  },
  {
   "cell_type": "code",
   "execution_count": 71,
   "id": "7ed8df82",
   "metadata": {},
   "outputs": [
    {
     "data": {
      "text/html": [
       "<div>                            <div id=\"099b7310-4c66-4803-aa1a-a7d75a699ddc\" class=\"plotly-graph-div\" style=\"height:525px; width:100%;\"></div>            <script type=\"text/javascript\">                require([\"plotly\"], function(Plotly) {                    window.PLOTLYENV=window.PLOTLYENV || {};                                    if (document.getElementById(\"099b7310-4c66-4803-aa1a-a7d75a699ddc\")) {                    Plotly.newPlot(                        \"099b7310-4c66-4803-aa1a-a7d75a699ddc\",                        [{\"coloraxis\":\"coloraxis\",\"histfunc\":\"sum\",\"hovertemplate\":\"state=%{x}<br>gun_law_likert_scale=%{y}<br>sum of value_num=%{z}<extra></extra>\",\"name\":\"\",\"x\":[\"Alaska\",\"Alabama\",\"Arkansas\",\"Arizona\",\"California\",\"Colorado\",\"Connecticut\",\"District of Columbia\",\"Delaware\",\"Florida\",\"Georgia\",\"Hawaii\",\"Iowa\",\"Idaho\",\"Illinois\",\"Indiana\",\"Kansas\",\"Kentucky\",\"Louisiana\",\"Massachusetts\",\"Maryland\",\"Maine\",\"Michigan\",\"Minnesota\",\"Missouri\",\"Mississippi\",\"Montana\",\"North Carolina\",\"North Dakota\",\"Nebraska\",\"New Hampshire\",\"New Jersey\",\"New Mexico\",\"Nevada\",\"New York\",\"Ohio\",\"Oklahoma\",\"Oregon\",\"Pennsylvania\",\"Rhode Island\",\"South Carolina\",\"South Dakota\",\"Tennessee\",\"Texas\",\"Utah\",\"Virginia\",\"Vermont\",\"Washington\",\"Wisconsin\",\"West Virginia\",\"Wyoming\"],\"xaxis\":\"x\",\"xbingroup\":\"x\",\"y\":[\"very lax\",\"very lax\",\"very lax\",\"very lax\",\"very strict\",\"strict\",\"very strict\",\"strict\",\"strict\",\"moderate\",\"very lax\",\"very strict\",\"very lax\",\"very lax\",\"very strict\",\"very lax\",\"very lax\",\"very lax\",\"very lax\",\"very strict\",\"very strict\",\"very lax\",\"moderate\",\"moderate\",\"very lax\",\"very lax\",\"very lax\",\"moderate\",\"very lax\",\"moderate\",\"very lax\",\"very strict\",\"moderate\",\"moderate\",\"very strict\",\"very lax\",\"very lax\",\"strict\",\"strict\",\"strict\",\"very lax\",\"very lax\",\"very lax\",\"very lax\",\"very lax\",\"strict\",\"moderate\",\"strict\",\"lax\",\"very lax\",\"very lax\"],\"yaxis\":\"y\",\"ybingroup\":\"y\",\"z\":[24.8,26.1,23.1,18.8,9.1,18.3,6.9,27.6,15.7,14.4,20.4,4.9,11.4,16.3,15.7,18.4,17.1,21.0,28.4,3.5,14.8,13.0,15.4,10.0,22.9,32.6,25.4,17.4,16.5,10.2,8.9,5.1,27.3,20.1,5.4,16.2,21.0,15.8,14.7,5.8,21.9,14.3,22.5,15.6,13.5,14.4,12.9,11.6,13.5,17.9,26.8],\"type\":\"histogram2d\"}],                        {\"template\":{\"data\":{\"histogram2dcontour\":[{\"type\":\"histogram2dcontour\",\"colorbar\":{\"outlinewidth\":0,\"ticks\":\"\"},\"colorscale\":[[0.0,\"#0d0887\"],[0.1111111111111111,\"#46039f\"],[0.2222222222222222,\"#7201a8\"],[0.3333333333333333,\"#9c179e\"],[0.4444444444444444,\"#bd3786\"],[0.5555555555555556,\"#d8576b\"],[0.6666666666666666,\"#ed7953\"],[0.7777777777777778,\"#fb9f3a\"],[0.8888888888888888,\"#fdca26\"],[1.0,\"#f0f921\"]]}],\"choropleth\":[{\"type\":\"choropleth\",\"colorbar\":{\"outlinewidth\":0,\"ticks\":\"\"}}],\"histogram2d\":[{\"type\":\"histogram2d\",\"colorbar\":{\"outlinewidth\":0,\"ticks\":\"\"},\"colorscale\":[[0.0,\"#0d0887\"],[0.1111111111111111,\"#46039f\"],[0.2222222222222222,\"#7201a8\"],[0.3333333333333333,\"#9c179e\"],[0.4444444444444444,\"#bd3786\"],[0.5555555555555556,\"#d8576b\"],[0.6666666666666666,\"#ed7953\"],[0.7777777777777778,\"#fb9f3a\"],[0.8888888888888888,\"#fdca26\"],[1.0,\"#f0f921\"]]}],\"heatmap\":[{\"type\":\"heatmap\",\"colorbar\":{\"outlinewidth\":0,\"ticks\":\"\"},\"colorscale\":[[0.0,\"#0d0887\"],[0.1111111111111111,\"#46039f\"],[0.2222222222222222,\"#7201a8\"],[0.3333333333333333,\"#9c179e\"],[0.4444444444444444,\"#bd3786\"],[0.5555555555555556,\"#d8576b\"],[0.6666666666666666,\"#ed7953\"],[0.7777777777777778,\"#fb9f3a\"],[0.8888888888888888,\"#fdca26\"],[1.0,\"#f0f921\"]]}],\"heatmapgl\":[{\"type\":\"heatmapgl\",\"colorbar\":{\"outlinewidth\":0,\"ticks\":\"\"},\"colorscale\":[[0.0,\"#0d0887\"],[0.1111111111111111,\"#46039f\"],[0.2222222222222222,\"#7201a8\"],[0.3333333333333333,\"#9c179e\"],[0.4444444444444444,\"#bd3786\"],[0.5555555555555556,\"#d8576b\"],[0.6666666666666666,\"#ed7953\"],[0.7777777777777778,\"#fb9f3a\"],[0.8888888888888888,\"#fdca26\"],[1.0,\"#f0f921\"]]}],\"contourcarpet\":[{\"type\":\"contourcarpet\",\"colorbar\":{\"outlinewidth\":0,\"ticks\":\"\"}}],\"contour\":[{\"type\":\"contour\",\"colorbar\":{\"outlinewidth\":0,\"ticks\":\"\"},\"colorscale\":[[0.0,\"#0d0887\"],[0.1111111111111111,\"#46039f\"],[0.2222222222222222,\"#7201a8\"],[0.3333333333333333,\"#9c179e\"],[0.4444444444444444,\"#bd3786\"],[0.5555555555555556,\"#d8576b\"],[0.6666666666666666,\"#ed7953\"],[0.7777777777777778,\"#fb9f3a\"],[0.8888888888888888,\"#fdca26\"],[1.0,\"#f0f921\"]]}],\"surface\":[{\"type\":\"surface\",\"colorbar\":{\"outlinewidth\":0,\"ticks\":\"\"},\"colorscale\":[[0.0,\"#0d0887\"],[0.1111111111111111,\"#46039f\"],[0.2222222222222222,\"#7201a8\"],[0.3333333333333333,\"#9c179e\"],[0.4444444444444444,\"#bd3786\"],[0.5555555555555556,\"#d8576b\"],[0.6666666666666666,\"#ed7953\"],[0.7777777777777778,\"#fb9f3a\"],[0.8888888888888888,\"#fdca26\"],[1.0,\"#f0f921\"]]}],\"mesh3d\":[{\"type\":\"mesh3d\",\"colorbar\":{\"outlinewidth\":0,\"ticks\":\"\"}}],\"scatter\":[{\"fillpattern\":{\"fillmode\":\"overlay\",\"size\":10,\"solidity\":0.2},\"type\":\"scatter\"}],\"parcoords\":[{\"type\":\"parcoords\",\"line\":{\"colorbar\":{\"outlinewidth\":0,\"ticks\":\"\"}}}],\"scatterpolargl\":[{\"type\":\"scatterpolargl\",\"marker\":{\"colorbar\":{\"outlinewidth\":0,\"ticks\":\"\"}}}],\"bar\":[{\"error_x\":{\"color\":\"#2a3f5f\"},\"error_y\":{\"color\":\"#2a3f5f\"},\"marker\":{\"line\":{\"color\":\"#E5ECF6\",\"width\":0.5},\"pattern\":{\"fillmode\":\"overlay\",\"size\":10,\"solidity\":0.2}},\"type\":\"bar\"}],\"scattergeo\":[{\"type\":\"scattergeo\",\"marker\":{\"colorbar\":{\"outlinewidth\":0,\"ticks\":\"\"}}}],\"scatterpolar\":[{\"type\":\"scatterpolar\",\"marker\":{\"colorbar\":{\"outlinewidth\":0,\"ticks\":\"\"}}}],\"histogram\":[{\"marker\":{\"pattern\":{\"fillmode\":\"overlay\",\"size\":10,\"solidity\":0.2}},\"type\":\"histogram\"}],\"scattergl\":[{\"type\":\"scattergl\",\"marker\":{\"colorbar\":{\"outlinewidth\":0,\"ticks\":\"\"}}}],\"scatter3d\":[{\"type\":\"scatter3d\",\"line\":{\"colorbar\":{\"outlinewidth\":0,\"ticks\":\"\"}},\"marker\":{\"colorbar\":{\"outlinewidth\":0,\"ticks\":\"\"}}}],\"scattermapbox\":[{\"type\":\"scattermapbox\",\"marker\":{\"colorbar\":{\"outlinewidth\":0,\"ticks\":\"\"}}}],\"scatterternary\":[{\"type\":\"scatterternary\",\"marker\":{\"colorbar\":{\"outlinewidth\":0,\"ticks\":\"\"}}}],\"scattercarpet\":[{\"type\":\"scattercarpet\",\"marker\":{\"colorbar\":{\"outlinewidth\":0,\"ticks\":\"\"}}}],\"carpet\":[{\"aaxis\":{\"endlinecolor\":\"#2a3f5f\",\"gridcolor\":\"white\",\"linecolor\":\"white\",\"minorgridcolor\":\"white\",\"startlinecolor\":\"#2a3f5f\"},\"baxis\":{\"endlinecolor\":\"#2a3f5f\",\"gridcolor\":\"white\",\"linecolor\":\"white\",\"minorgridcolor\":\"white\",\"startlinecolor\":\"#2a3f5f\"},\"type\":\"carpet\"}],\"table\":[{\"cells\":{\"fill\":{\"color\":\"#EBF0F8\"},\"line\":{\"color\":\"white\"}},\"header\":{\"fill\":{\"color\":\"#C8D4E3\"},\"line\":{\"color\":\"white\"}},\"type\":\"table\"}],\"barpolar\":[{\"marker\":{\"line\":{\"color\":\"#E5ECF6\",\"width\":0.5},\"pattern\":{\"fillmode\":\"overlay\",\"size\":10,\"solidity\":0.2}},\"type\":\"barpolar\"}],\"pie\":[{\"automargin\":true,\"type\":\"pie\"}]},\"layout\":{\"autotypenumbers\":\"strict\",\"colorway\":[\"#636efa\",\"#EF553B\",\"#00cc96\",\"#ab63fa\",\"#FFA15A\",\"#19d3f3\",\"#FF6692\",\"#B6E880\",\"#FF97FF\",\"#FECB52\"],\"font\":{\"color\":\"#2a3f5f\"},\"hovermode\":\"closest\",\"hoverlabel\":{\"align\":\"left\"},\"paper_bgcolor\":\"white\",\"plot_bgcolor\":\"#E5ECF6\",\"polar\":{\"bgcolor\":\"#E5ECF6\",\"angularaxis\":{\"gridcolor\":\"white\",\"linecolor\":\"white\",\"ticks\":\"\"},\"radialaxis\":{\"gridcolor\":\"white\",\"linecolor\":\"white\",\"ticks\":\"\"}},\"ternary\":{\"bgcolor\":\"#E5ECF6\",\"aaxis\":{\"gridcolor\":\"white\",\"linecolor\":\"white\",\"ticks\":\"\"},\"baxis\":{\"gridcolor\":\"white\",\"linecolor\":\"white\",\"ticks\":\"\"},\"caxis\":{\"gridcolor\":\"white\",\"linecolor\":\"white\",\"ticks\":\"\"}},\"coloraxis\":{\"colorbar\":{\"outlinewidth\":0,\"ticks\":\"\"}},\"colorscale\":{\"sequential\":[[0.0,\"#0d0887\"],[0.1111111111111111,\"#46039f\"],[0.2222222222222222,\"#7201a8\"],[0.3333333333333333,\"#9c179e\"],[0.4444444444444444,\"#bd3786\"],[0.5555555555555556,\"#d8576b\"],[0.6666666666666666,\"#ed7953\"],[0.7777777777777778,\"#fb9f3a\"],[0.8888888888888888,\"#fdca26\"],[1.0,\"#f0f921\"]],\"sequentialminus\":[[0.0,\"#0d0887\"],[0.1111111111111111,\"#46039f\"],[0.2222222222222222,\"#7201a8\"],[0.3333333333333333,\"#9c179e\"],[0.4444444444444444,\"#bd3786\"],[0.5555555555555556,\"#d8576b\"],[0.6666666666666666,\"#ed7953\"],[0.7777777777777778,\"#fb9f3a\"],[0.8888888888888888,\"#fdca26\"],[1.0,\"#f0f921\"]],\"diverging\":[[0,\"#8e0152\"],[0.1,\"#c51b7d\"],[0.2,\"#de77ae\"],[0.3,\"#f1b6da\"],[0.4,\"#fde0ef\"],[0.5,\"#f7f7f7\"],[0.6,\"#e6f5d0\"],[0.7,\"#b8e186\"],[0.8,\"#7fbc41\"],[0.9,\"#4d9221\"],[1,\"#276419\"]]},\"xaxis\":{\"gridcolor\":\"white\",\"linecolor\":\"white\",\"ticks\":\"\",\"title\":{\"standoff\":15},\"zerolinecolor\":\"white\",\"automargin\":true,\"zerolinewidth\":2},\"yaxis\":{\"gridcolor\":\"white\",\"linecolor\":\"white\",\"ticks\":\"\",\"title\":{\"standoff\":15},\"zerolinecolor\":\"white\",\"automargin\":true,\"zerolinewidth\":2},\"scene\":{\"xaxis\":{\"backgroundcolor\":\"#E5ECF6\",\"gridcolor\":\"white\",\"linecolor\":\"white\",\"showbackground\":true,\"ticks\":\"\",\"zerolinecolor\":\"white\",\"gridwidth\":2},\"yaxis\":{\"backgroundcolor\":\"#E5ECF6\",\"gridcolor\":\"white\",\"linecolor\":\"white\",\"showbackground\":true,\"ticks\":\"\",\"zerolinecolor\":\"white\",\"gridwidth\":2},\"zaxis\":{\"backgroundcolor\":\"#E5ECF6\",\"gridcolor\":\"white\",\"linecolor\":\"white\",\"showbackground\":true,\"ticks\":\"\",\"zerolinecolor\":\"white\",\"gridwidth\":2}},\"shapedefaults\":{\"line\":{\"color\":\"#2a3f5f\"}},\"annotationdefaults\":{\"arrowcolor\":\"#2a3f5f\",\"arrowhead\":0,\"arrowwidth\":1},\"geo\":{\"bgcolor\":\"white\",\"landcolor\":\"#E5ECF6\",\"subunitcolor\":\"white\",\"showland\":true,\"showlakes\":true,\"lakecolor\":\"white\"},\"title\":{\"x\":0.05},\"mapbox\":{\"style\":\"light\"}}},\"xaxis\":{\"anchor\":\"y\",\"domain\":[0.0,1.0],\"title\":{\"text\":\"<sup>Source: CDC for fatalities & Giffords for gun law evaluations<sup>\"}},\"yaxis\":{\"anchor\":\"x\",\"domain\":[0.0,1.0],\"title\":{\"text\":\"Gun Laws Likert Scale\"},\"categoryorder\":\"array\",\"categoryarray\":[\"very lax\",\"lax\",\"moderate\",\"strict\",\"very strict\"]},\"coloraxis\":{\"colorbar\":{\"title\":{\"text\":\"Firearm deaths per 100k\"}},\"colorscale\":[[0.0,\"rgb(247,251,255)\"],[0.125,\"rgb(222,235,247)\"],[0.25,\"rgb(198,219,239)\"],[0.375,\"rgb(158,202,225)\"],[0.5,\"rgb(107,174,214)\"],[0.625,\"rgb(66,146,198)\"],[0.75,\"rgb(33,113,181)\"],[0.875,\"rgb(8,81,156)\"],[1.0,\"rgb(8,48,107)\"]]},\"legend\":{\"tracegroupgap\":0},\"title\":{\"text\":\"Firearm deaths are far more concentrated in states with more lax laws\"},\"font\":{\"size\":9}},                        {\"responsive\": true}                    ).then(function(){\n",
       "                            \n",
       "var gd = document.getElementById('099b7310-4c66-4803-aa1a-a7d75a699ddc');\n",
       "var x = new MutationObserver(function (mutations, observer) {{\n",
       "        var display = window.getComputedStyle(gd).display;\n",
       "        if (!display || display === 'none') {{\n",
       "            console.log([gd, 'removed!']);\n",
       "            Plotly.purge(gd);\n",
       "            observer.disconnect();\n",
       "        }}\n",
       "}});\n",
       "\n",
       "// Listen for the removal of the full notebook cells\n",
       "var notebookContainer = gd.closest('#notebook-container');\n",
       "if (notebookContainer) {{\n",
       "    x.observe(notebookContainer, {childList: true});\n",
       "}}\n",
       "\n",
       "// Listen for the clearing of the current output cell\n",
       "var outputEl = gd.closest('.output');\n",
       "if (outputEl) {{\n",
       "    x.observe(outputEl, {childList: true});\n",
       "}}\n",
       "\n",
       "                        })                };                });            </script>        </div>"
      ]
     },
     "metadata": {},
     "output_type": "display_data"
    }
   ],
   "source": [
    "fig_heat_map = px.density_heatmap(viz_df,x='state',y='gun_law_likert_scale',z='value_num',\n",
    "                                  title='Firearm deaths are far more concentrated in states with more lax laws',\n",
    "                   color_continuous_scale=px.colors.sequential.Blues,\n",
    "                  category_orders={'gun_law_likert_scale':['very strict','strict','moderate','lax','very lax'],'value_num':'Firearm deaths per 100k'})\n",
    "fig_heat_map.update_layout(font_size=9,yaxis_title='Gun Laws Likert Scale',xaxis_title='<sup>Source: CDC for fatalities & Giffords for gun law evaluations<sup>',\n",
    "                           coloraxis_colorbar_title_text='Firearm deaths per 100k')\n",
    "                           #legend_title_text='Firearm deaths per 100k')\n",
    "fig_heat_map.show()"
   ]
  },
  {
   "cell_type": "code",
   "execution_count": 70,
   "id": "19312b97",
   "metadata": {},
   "outputs": [
    {
     "data": {
      "image/png": "[encoded data removed]",
      "text/plain": [
       "<IPython.core.display.Image object>"
      ]
     },
     "execution_count": 70,
     "metadata": {},
     "output_type": "execute_result"
    }
   ],
   "source": [
    "fig_scat = px.scatter(viz_df,x=['likert_num'],y='value_num',\n",
    "                      #color='gun_law_likert_scale',\n",
    "                      #color_discrete_sequence=px.colors.qualitative.D3,\n",
    "                      labels='st_abbr', trendline=\"ols\",title='Stricter laws may be one obvious solution towards lowering fatalties')\n",
    "fig_scat.update_layout(yaxis_title='Firearm deaths per 100k',\n",
    "                       xaxis_title='Gun Law Likert Scale<br><br><sup>Source: CDC & Likert scale determined using Gifford Gun law scorecard data</sup>',\n",
    "                       xaxis=dict(tickmode = 'array',\n",
    "        tickvals = [1, 2, 3, 4, 5],\n",
    "        ticktext = ['Very Strict', 'Strict', 'Moderate', 'Lax', 'Very Lax']),\n",
    "                      showlegend=False)\n",
    "fig_scat_img = fig_scat.to_image(format=\"png\")\n",
    "Image(fig_scat_img)"
   ]
  },
  {
   "cell_type": "code",
   "execution_count": null,
   "id": "1a334f52",
   "metadata": {},
   "outputs": [],
   "source": []
  }
 ],
 "metadata": {
  "kernelspec": {
   "display_name": "Python 3 (ipykernel)",
   "language": "python",
   "name": "python3"
  },
  "language_info": {
   "codemirror_mode": {
    "name": "ipython",
    "version": 3
   },
   "file_extension": ".py",
   "mimetype": "text/x-python",
   "name": "python",
   "nbconvert_exporter": "python",
   "pygments_lexer": "ipython3",
   "version": "3.10.12"
  }
 },
 "nbformat": 4,
 "nbformat_minor": 5
}
